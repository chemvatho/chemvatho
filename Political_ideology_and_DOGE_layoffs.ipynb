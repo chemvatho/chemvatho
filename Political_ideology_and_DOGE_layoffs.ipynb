{
  "nbformat": 4,
  "nbformat_minor": 0,
  "metadata": {
    "colab": {
      "private_outputs": true,
      "provenance": [],
      "authorship_tag": "ABX9TyOjd2EM6W+fyVWXCHd2G/g3",
      "include_colab_link": true
    },
    "kernelspec": {
      "name": "python3",
      "display_name": "Python 3"
    },
    "language_info": {
      "name": "python"
    }
  },
  "cells": [
    {
      "cell_type": "markdown",
      "metadata": {
        "id": "view-in-github",
        "colab_type": "text"
      },
      "source": [
        "<a href=\"https://colab.research.google.com/github/chemvatho/chemvatho/blob/main/Political_ideology_and_DOGE_layoffs.ipynb\" target=\"_parent\"><img src=\"https://colab.research.google.com/assets/colab-badge.svg\" alt=\"Open In Colab\"/></a>"
      ]
    },
    {
      "cell_type": "code",
      "execution_count": null,
      "metadata": {
        "id": "od_1EBfaYKgt"
      },
      "outputs": [],
      "source": [
        "import pandas as pd\n",
        "\n",
        "# Load the dataset\n",
        "file_path = \"/content/Agency Ideology and DOGE Mass Firings - Sheet1.csv\"\n",
        "df = pd.read_csv(file_path)\n",
        "\n",
        "# Display the first few rows of the dataset\n",
        "df.head()\n"
      ]
    },
    {
      "cell_type": "code",
      "source": [
        "# Histogram of perceived ideological estimates (similar to second image)\n",
        "\n",
        "plt.figure(figsize=(10, 6))\n",
        "plt.hist(df['Perceived_Ideology_Estimate'], bins=10, edgecolor='black', alpha=0.7)\n",
        "plt.xlabel(\"Perceived Ideology Estimate\")\n",
        "plt.ylabel(\"Frequency\")\n",
        "plt.title(\"Histogram of Perceived Ideological Estimates\")\n",
        "\n",
        "plt.show()\n"
      ],
      "metadata": {
        "id": "_1pQr9t9YiMF"
      },
      "execution_count": null,
      "outputs": []
    },
    {
      "cell_type": "code",
      "source": [
        "import matplotlib.pyplot as plt\n",
        "import numpy as np\n",
        "\n",
        "# Convert 'Total_Staff' to numeric (removing commas)\n",
        "df['Total_Staff'] = df['Total_Staff'].astype(str).str.replace(',', '').astype(float)\n",
        "\n",
        "# Scatter plot to replicate first image\n",
        "plt.figure(figsize=(10, 6))\n",
        "\n",
        "# Plot agencies with layoffs in red and those without in gray\n",
        "for _, row in df.iterrows():\n",
        "    color = 'red' if row['doge_layoffs'] == 1 else 'gray'\n",
        "    plt.scatter(row['Perceived_Ideology_Estimate'], row['Total_Staff'], color=color, alpha=0.7)\n",
        "\n",
        "plt.axvline(0, linestyle='dashed', color='gray')  # Center line at 0\n",
        "\n",
        "plt.xlabel(\"Perceived Ideological Leaning\\n(← More Liberal | More Conservative →)\")\n",
        "plt.ylabel(\"Agency Size (Number of Staff)\")\n",
        "plt.title(\"Empirical Evidence of Ideological Targeting in Federal Layoffs\")\n",
        "\n",
        "plt.yscale(\"log\")  # Log scale for better visibility\n",
        "\n",
        "plt.show()\n"
      ],
      "metadata": {
        "id": "WlyaNrDnYWdA"
      },
      "execution_count": null,
      "outputs": []
    },
    {
      "cell_type": "code",
      "source": [
        "import seaborn as sns\n",
        "\n",
        "# Set up plot aesthetics\n",
        "plt.figure(figsize=(12, 7))\n",
        "sns.set(style=\"whitegrid\")\n",
        "\n",
        "# Scatter plot\n",
        "ax = sns.scatterplot(\n",
        "    x=df[\"Perceived_Ideology_Estimate\"],\n",
        "    y=df[\"Total_Staff\"],\n",
        "    hue=df[\"doge_layoffs\"],\n",
        "    palette={1: \"red\", 0: \"gray\"},\n",
        "    alpha=0.8,\n",
        "    edgecolor=\"black\",\n",
        "    legend=True\n",
        ")\n",
        "\n",
        "# Customize legend\n",
        "handles, labels = ax.get_legend_handles_labels()\n",
        "ax.legend(handles, [\"No Layoffs\", \"DOGE Layoffs\"], title=\"Layoff Status\", loc=\"upper right\")\n",
        "\n",
        "# Log scale for staff size\n",
        "plt.yscale(\"log\")\n",
        "\n",
        "# Titles and labels\n",
        "plt.axvline(0, linestyle='dashed', color='black', alpha=0.6)  # Center line\n",
        "plt.xlabel(\"Perceived Ideological Leaning\\n(← More Liberal | More Conservative →)\")\n",
        "plt.ylabel(\"Agency Size (Number of Staff)\")\n",
        "plt.title(\"Empirical Evidence of Ideological Targeting in Federal Layoffs\")\n",
        "\n",
        "# Annotate key agencies\n",
        "highlighted_agencies = [\"HHS\", \"EPA\", \"USAID\", \"Dept. of Education\", \"CFPB\", \"NIH\",\n",
        "                         \"Indian Health Service\", \"NSF\", \"Forest Service\", \"Dept. of Veterans Affairs\",\n",
        "                         \"FAA\", \"National Nuclear Security Administration (DOE)\"]\n",
        "\n",
        "for _, row in df.iterrows():\n",
        "    if any(name in row[\"Agency\"] for name in highlighted_agencies):\n",
        "        plt.text(row[\"Perceived_Ideology_Estimate\"], row[\"Total_Staff\"], row[\"Agency\"], fontsize=9)\n",
        "\n",
        "# Show plot\n",
        "plt.show()\n"
      ],
      "metadata": {
        "id": "HRiCKGVWYfC9"
      },
      "execution_count": null,
      "outputs": []
    },
    {
      "cell_type": "code",
      "source": [],
      "metadata": {
        "id": "fXo0zL_4Ynex"
      },
      "execution_count": null,
      "outputs": []
    }
  ]
}