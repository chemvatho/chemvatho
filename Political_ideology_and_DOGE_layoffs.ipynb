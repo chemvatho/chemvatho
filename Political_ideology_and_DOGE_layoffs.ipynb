{
  "nbformat": 4,
  "nbformat_minor": 0,
  "metadata": {
    "colab": {
      "private_outputs": true,
      "provenance": [],
      "authorship_tag": "ABX9TyPdl1ZLhNw+SDscCM85TvOp",
      "include_colab_link": true
    },
    "kernelspec": {
      "name": "python3",
      "display_name": "Python 3"
    },
    "language_info": {
      "name": "python"
    }
  },
  "cells": [
    {
      "cell_type": "markdown",
      "metadata": {
        "id": "view-in-github",
        "colab_type": "text"
      },
      "source": [
        "<a href=\"https://colab.research.google.com/github/chemvatho/chemvatho/blob/main/Political_ideology_and_DOGE_layoffs.ipynb\" target=\"_parent\"><img src=\"https://colab.research.google.com/assets/colab-badge.svg\" alt=\"Open In Colab\"/></a>"
      ]
    },
    {
      "cell_type": "code",
      "execution_count": null,
      "metadata": {
        "id": "od_1EBfaYKgt"
      },
      "outputs": [],
      "source": [
        "import pandas as pd\n",
        "\n",
        "# Load the dataset\n",
        "file_path = \"/content/Agency Ideology and DOGE Mass Firings - Sheet1.csv\"\n",
        "df = pd.read_csv(file_path)\n",
        "\n",
        "# Display the first few rows of the dataset\n",
        "df.head()\n"
      ]
    },
    {
      "cell_type": "code",
      "source": [
        "# 1. Statistical Summary\n",
        "summary_stats = df[['Perceived_Ideology_Estimate', 'Total_Staff', 'Annual_Budget_USD', 'doge_layoffs']].describe()\n",
        "\n",
        "# Correlation between ideology and layoffs\n",
        "correlation_ideology_layoffs = df[['Perceived_Ideology_Estimate', 'doge_layoffs']].corr()\n",
        "\n",
        "# Average staff size for agencies with and without layoffs\n",
        "avg_staff_layoffs = df.groupby(\"doge_layoffs\")[\"Total_Staff\"].mean()\n",
        "\n",
        "# Display results\n",
        "print(\"Statistical Summary\")\n",
        "print(summary_stats)\n",
        "print(\"\\nCorrelation Between Ideology and Layoffs\")\n",
        "print(correlation_ideology_layoffs)\n",
        "print(\"\\nAverage Staff Size for Layoffs vs No Layoffs\")\n",
        "print(avg_staff_layoffs)"
      ],
      "metadata": {
        "id": "6rKfV3URZfwq"
      },
      "execution_count": null,
      "outputs": []
    },
    {
      "cell_type": "code",
      "source": [
        "# Histogram of perceived ideological estimates (similar to second image)\n",
        "\n",
        "plt.figure(figsize=(10, 6))\n",
        "plt.hist(df['Perceived_Ideology_Estimate'], bins=10, edgecolor='black', alpha=0.7)\n",
        "plt.xlabel(\"Perceived Ideology Estimate\")\n",
        "plt.ylabel(\"Frequency\")\n",
        "plt.title(\"Histogram of Perceived Ideological Estimates\")\n",
        "\n",
        "plt.show()\n"
      ],
      "metadata": {
        "id": "_1pQr9t9YiMF"
      },
      "execution_count": null,
      "outputs": []
    },
    {
      "source": [
        "import seaborn as sns\n",
        "\n",
        "# 2. Relationship Between Ideology and Layoffs - Boxplot\n",
        "plt.figure(figsize=(10, 6))\n",
        "sns.boxplot(x=df[\"doge_layoffs\"], y=df[\"Perceived_Ideology_Estimate\"], palette={\"1\": \"red\", \"0\": \"gray\"})\n",
        "plt.xlabel(\"Layoff Status (0 = No Layoffs, 1 = Layoffs)\")\n",
        "plt.ylabel(\"Perceived Ideology Estimate\")\n",
        "plt.title(\"Boxplot of Ideology vs Layoffs\")\n",
        "plt.show()"
      ],
      "cell_type": "code",
      "metadata": {
        "id": "B2uozSNZZnak"
      },
      "execution_count": null,
      "outputs": []
    },
    {
      "cell_type": "code",
      "source": [
        "import matplotlib.pyplot as plt\n",
        "import numpy as np\n",
        "\n",
        "# Convert 'Total_Staff' to numeric (removing commas)\n",
        "df['Total_Staff'] = df['Total_Staff'].astype(str).str.replace(',', '').astype(float)\n",
        "\n",
        "# Scatter plot to replicate first image\n",
        "plt.figure(figsize=(10, 6))\n",
        "\n",
        "# Plot agencies with layoffs in red and those without in gray\n",
        "for _, row in df.iterrows():\n",
        "    color = 'red' if row['doge_layoffs'] == 1 else 'gray'\n",
        "    plt.scatter(row['Perceived_Ideology_Estimate'], row['Total_Staff'], color=color, alpha=0.7)\n",
        "\n",
        "plt.axvline(0, linestyle='dashed', color='gray')  # Center line at 0\n",
        "\n",
        "plt.xlabel(\"Perceived Ideological Leaning\\n(← More Liberal | More Conservative →)\")\n",
        "plt.ylabel(\"Agency Size (Number of Staff)\")\n",
        "plt.title(\"Empirical Evidence of Ideological Targeting in Federal Layoffs\")\n",
        "\n",
        "plt.yscale(\"log\")  # Log scale for better visibility\n",
        "\n",
        "plt.show()\n"
      ],
      "metadata": {
        "id": "WlyaNrDnYWdA"
      },
      "execution_count": null,
      "outputs": []
    },
    {
      "cell_type": "code",
      "source": [
        "import seaborn as sns\n",
        "\n",
        "# Set up plot aesthetics\n",
        "plt.figure(figsize=(12, 7))\n",
        "sns.set(style=\"whitegrid\")\n",
        "\n",
        "# Scatter plot\n",
        "ax = sns.scatterplot(\n",
        "    x=df[\"Perceived_Ideology_Estimate\"],\n",
        "    y=df[\"Total_Staff\"],\n",
        "    hue=df[\"doge_layoffs\"],\n",
        "    palette={1: \"red\", 0: \"gray\"},\n",
        "    alpha=0.8,\n",
        "    edgecolor=\"black\",\n",
        "    legend=True\n",
        ")\n",
        "\n",
        "# Customize legend\n",
        "handles, labels = ax.get_legend_handles_labels()\n",
        "ax.legend(handles, [\"No Layoffs\", \"DOGE Layoffs\"], title=\"Layoff Status\", loc=\"upper right\")\n",
        "\n",
        "# Log scale for staff size\n",
        "plt.yscale(\"log\")\n",
        "\n",
        "# Titles and labels\n",
        "plt.axvline(0, linestyle='dashed', color='black', alpha=0.6)  # Center line\n",
        "plt.xlabel(\"Perceived Ideological Leaning\\n(← More Liberal | More Conservative →)\")\n",
        "plt.ylabel(\"Agency Size (Number of Staff)\")\n",
        "plt.title(\"Empirical Evidence of Ideological Targeting in Federal Layoffs\")\n",
        "\n",
        "# Annotate key agencies\n",
        "highlighted_agencies = [\"HHS\", \"EPA\", \"USAID\", \"Dept. of Education\", \"CFPB\", \"NIH\",\n",
        "                         \"Indian Health Service\", \"NSF\", \"Forest Service\", \"Dept. of Veterans Affairs\",\n",
        "                         \"FAA\", \"National Nuclear Security Administration (DOE)\"]\n",
        "\n",
        "for _, row in df.iterrows():\n",
        "    if any(name in row[\"Agency\"] for name in highlighted_agencies):\n",
        "        plt.text(row[\"Perceived_Ideology_Estimate\"], row[\"Total_Staff\"], row[\"Agency\"], fontsize=9)\n",
        "\n",
        "# Show plot\n",
        "plt.show()\n"
      ],
      "metadata": {
        "id": "HRiCKGVWYfC9"
      },
      "execution_count": null,
      "outputs": []
    },
    {
      "cell_type": "code",
      "source": [
        "# 3. Budget vs Layoffs - Scatter Plot\n",
        "plt.figure(figsize=(10, 6))\n",
        "sns.scatterplot(x=df[\"Annual_Budget_USD\"], y=df[\"Total_Staff\"], hue=df[\"doge_layoffs\"], palette={1: \"red\", 0: \"gray\"}, alpha=0.7)\n",
        "plt.xscale(\"log\")\n",
        "plt.yscale(\"log\")\n",
        "plt.xlabel(\"Annual Budget (USD, Log Scale)\")\n",
        "plt.ylabel(\"Total Staff (Log Scale)\")\n",
        "plt.title(\"Annual Budget vs. Staff Size (Layoffs Highlighted)\")\n",
        "plt.legend(title=\"Layoff Status\", labels=[\"No Layoffs\", \"DOGE Layoffs\"])\n",
        "plt.show()\n"
      ],
      "metadata": {
        "id": "LynDoWibaTH7"
      },
      "execution_count": null,
      "outputs": []
    },
    {
      "cell_type": "code",
      "source": [
        "# 5. Heatmap of Budget, Ideology, and Layoffs\n",
        "\n",
        "# Normalize data for better visualization\n",
        "df_normalized = df.copy()\n",
        "df_normalized[\"Total_Staff\"] = np.log10(df_normalized[\"Total_Staff\"])\n",
        "df_normalized[\"Annual_Budget_USD\"] = np.log10(df_normalized[\"Annual_Budget_USD\"])\n",
        "\n",
        "plt.figure(figsize=(10, 6))\n",
        "sns.heatmap(df_normalized[[\"Perceived_Ideology_Estimate\", \"Total_Staff\", \"Annual_Budget_USD\", \"doge_layoffs\"]].corr(), annot=True, cmap=\"coolwarm\")\n",
        "plt.title(\"Correlation Heatmap of Key Features\")\n",
        "plt.show()\n"
      ],
      "metadata": {
        "id": "MF8rIQC_acxw"
      },
      "execution_count": null,
      "outputs": []
    },
    {
      "source": [
        "import statsmodels.api as sm\n",
        "\n",
        "# 2. Regression Analysis - Does ideology predict layoffs?\n",
        "df[\"intercept\"] = 1  # Add intercept for regression\n",
        "logit_model = sm.Logit(df[\"doge_layoffs\"], df[[\"intercept\", \"Perceived_Ideology_Estimate\"]])\n",
        "result = logit_model.fit()\n",
        "\n",
        "# Display regression summary\n",
        "result.summary()"
      ],
      "cell_type": "code",
      "metadata": {
        "id": "a34YhfWLa4oP"
      },
      "execution_count": null,
      "outputs": []
    },
    {
      "cell_type": "code",
      "source": [
        "from scipy.stats import chi2_contingency\n",
        "import pandas as pd\n",
        "\n",
        "# Define a basic display_dataframe_to_user function\n",
        "def display_dataframe_to_user(name, dataframe):\n",
        "    print(f\"--- {name} ---\")\n",
        "    print(dataframe)\n",
        "\n",
        "# 2. Chi-square test for ideological bias in layoffs\n",
        "contingency_table = pd.crosstab(df[\"doge_layoffs\"], df[\"Perceived_Ideology_Estimate\"] > 0)\n",
        "chi2, p, dof, expected = chi2_contingency(contingency_table)\n",
        "\n",
        "# Display chi-square test results\n",
        "chi2_test_results = pd.DataFrame({\n",
        "    \"Chi-square Statistic\": [chi2],\n",
        "    \"p-value\": [p],\n",
        "    \"Degrees of Freedom\": [dof]\n",
        "})\n",
        "\n",
        "display_dataframe_to_user(name=\"Chi-square Test Results\", dataframe=chi2_test_results)"
      ],
      "metadata": {
        "id": "A-QEXw3_azS_"
      },
      "execution_count": null,
      "outputs": []
    },
    {
      "cell_type": "code",
      "source": [],
      "metadata": {
        "id": "yb89nF45bXsA"
      },
      "execution_count": null,
      "outputs": []
    }
  ]
}